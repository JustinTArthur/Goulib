{
 "metadata": {
  "name": "Piecewise"
 },
 "nbformat": 3,
 "nbformat_minor": 0,
 "worksheets": [
  {
   "cells": [
    {
     "cell_type": "heading",
     "level": 1,
     "metadata": {},
     "source": [
      "Piecewise"
     ]
    },
    {
     "cell_type": "markdown",
     "metadata": {},
     "source": [
      "piecewise-defined functions"
     ]
    },
    {
     "cell_type": "code",
     "collapsed": false,
     "input": [
      "import sys\n",
      "sys.path.append(\"D:\\Users\\guglie0p\\Dropbox\\Develop\\Python\\Goulib\")\n",
      "from Goulib.piecewise import *\n",
      "\n",
      "def plot(pwfs,ylim=None,labels=None,offset=None,max=None):\n",
      "    \"\"\"plots function\"\"\"\n",
      "    if isinstance(pwfs,Piecewise):\n",
      "        pwfs=[pwfs]\n",
      "    for i,pwf in enumerate(pwfs):\n",
      "        (x,y)=pwf.points(max=max)\n",
      "        if offset:\n",
      "            x=[x+i*offset for x in x]\n",
      "            y=[y+i*offset for y in y]\n",
      "        try:\n",
      "            label=labels[i]\n",
      "        except:\n",
      "            label=''\n",
      "        pylab.plot(x, y, label=label)\n",
      "        \n",
      "    if ylim: pylab.ylim(ylim)\n",
      "    if legend: pylab.legend()\n",
      "    pylab.show() "
     ],
     "language": "python",
     "metadata": {},
     "outputs": [],
     "prompt_number": 1
    },
    {
     "cell_type": "markdown",
     "metadata": {},
     "source": [
      "The simplest are piecewise continuous functions. They are defined by $(x_i,y_i)$ tuples given in any order. \n",
      "\n",
      "$f(x) = \\begin{cases}y_0 & x < x_1 \\\\ y_i & x_i \\le x < x_{i+1} \\\\ y_n & x > x_n \\end{cases}$ (MathJax doesn't work properly in iPython...)"
     ]
    },
    {
     "cell_type": "code",
     "collapsed": false,
     "input": [
      "p1=Piecewise([(4,4),(3,3),(1,1),(5,0)])\n",
      "plot(p1,max=6,ylim=(-1,5))"
     ],
     "language": "python",
     "metadata": {},
     "outputs": [
      {
       "output_type": "display_data",
       "png": "[encoded data removed]"
      }
     ],
     "prompt_number": 6
    },
    {
     "cell_type": "markdown",
     "metadata": {},
     "source": [
      "By default $x_0 = 0$ , but it can be specified at construction\n",
      "Piecewise functions can also be defined by adding (x0,y,x1) segments"
     ]
    },
    {
     "cell_type": "code",
     "collapsed": false,
     "input": [
      "p2=Piecewise(default=1)\n",
      "p2+=(2.5,1,6.5)\n",
      "p2+=(1.5,1,3.5)\n",
      "plot(p2,max=7,ylim=(-1,5))"
     ],
     "language": "python",
     "metadata": {},
     "outputs": [
      {
       "output_type": "display_data",
       "png": "[encoded data removed]"
      }
     ],
     "prompt_number": 10
    },
    {
     "cell_type": "code",
     "collapsed": false,
     "input": [
      "plot([p1,p2,p1+p2,p1*p2,p1/p2],labels=['p1','p2','p1+p2','p1*p2','p1/p2'],max=7,ylim=(-1,10), offset=0.02)"
     ],
     "language": "python",
     "metadata": {},
     "outputs": [
      {
       "output_type": "display_data",
       "png": "[encoded data removed]"
      }
     ],
     "prompt_number": 12
    },
    {
     "cell_type": "code",
     "collapsed": false,
     "input": [],
     "language": "python",
     "metadata": {},
     "outputs": []
    }
   ],
   "metadata": {}
  }
 ]
}